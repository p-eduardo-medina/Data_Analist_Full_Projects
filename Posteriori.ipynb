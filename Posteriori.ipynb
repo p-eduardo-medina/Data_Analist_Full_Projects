{
 "cells": [
  {
   "cell_type": "code",
   "execution_count": 2,
   "metadata": {},
   "outputs": [],
   "source": [
    "import numpy as np\n",
    "import matplotlib.pyplot as plt\n",
    "import pandas as pd\n",
    "import math\n",
    "import random"
   ]
  },
  {
   "cell_type": "code",
   "execution_count": 3,
   "metadata": {},
   "outputs": [],
   "source": [
    "# Parametros reales\n",
    "m_true = -1\n",
    "b_true = -2.5\n",
    "\n",
    "# Generar datos \"sinteticos\"\n",
    "N = 50 # Numero de datos\n",
    "np.random.seed(0) # Para asegurarnos de que cada vez que corramos el notebook obtengamos lo mismo\n",
    "x=np.linspace(0,10,N) # Coorenadas en X \n",
    "yerr = np.random.normal(0,1,size=N) # Errores aleatorios que siguen una distribución normal de media 0 con dispersión 1.\n",
    "y = m_true*x+b_true\n",
    "y += yerr\n",
    "yerr += np.random.normal(0,0.3,size=N) # También agregamos otro tipo error más pequeño; por ejemplo, ruido.\n",
    "yerr = np.abs(yerr) # Los valores del error siempre son positivos"
   ]
  },
  {
   "cell_type": "code",
   "execution_count": 4,
   "metadata": {},
   "outputs": [
    {
     "data": {
      "image/png": "[encoded data removed]",
      "text/plain": [
       "<Figure size 640x480 with 1 Axes>"
      ]
     },
     "metadata": {},
     "output_type": "display_data"
    }
   ],
   "source": [
    "plt.errorbar(x,y,yerr=yerr,fmt='.')\n",
    "plt.xlabel('x')\n",
    "plt.ylabel('y')\n",
    "plt.grid()"
   ]
  },
  {
   "cell_type": "code",
   "execution_count": 48,
   "metadata": {},
   "outputs": [],
   "source": [
    "def modeloLonieal(m,b, x):\n",
    "    return m * x + b\n",
    "\n",
    "def loglike(GuessM,GuessB,x_obs,y_obs,y_err):\n",
    "    y_model = modeloLonieal(GuessM,GuessB, x_obs)\n",
    "    chi_square = np.sum(((y_obs - y_model) / y_err) ** 2)\n",
    "    return -0.5*chi_square\n",
    "\n",
    "def logPrior(Guess, bounds):\n",
    "    if Guess[0]>bounds[0][0] and Guess[0]<bounds[0][1] and Guess[1]>bounds[1][0] and Guess[1]<bounds[1][1] :\n",
    "        return 0\n",
    "    else:\n",
    "        return -np.inf\n",
    "    "
   ]
  },
  {
   "cell_type": "code",
   "execution_count": 46,
   "metadata": {},
   "outputs": [],
   "source": [
    "m_Max = 5\n",
    "m_Min = -5\n",
    "b_Max = 5\n",
    "b_Min = -5\n",
    "m0 = random.uniform(m_Max,m_Min) #Guess Inicial\n",
    "b0 = random.uniform(b_Max,b_Min)\n",
    "sigmaM = 0.25\n",
    "sigmaB = 0.25"
   ]
  },
  {
   "cell_type": "code",
   "execution_count": 50,
   "metadata": {},
   "outputs": [
    {
     "name": "stdout",
     "output_type": "stream",
     "text": [
      "-3788748.93687653\n"
     ]
    },
    {
     "ename": "ZeroDivisionError",
     "evalue": "float division by zero",
     "output_type": "error",
     "traceback": [
      "\u001b[0;31m---------------------------------------------------------------------------\u001b[0m",
      "\u001b[0;31mZeroDivisionError\u001b[0m                         Traceback (most recent call last)",
      "Cell \u001b[0;32mIn[50], line 11\u001b[0m\n\u001b[1;32m      9\u001b[0m \u001b[38;5;28;01mif\u001b[39;00m lnP \u001b[38;5;241m!=\u001b[39m \u001b[38;5;241m-\u001b[39mnp\u001b[38;5;241m.\u001b[39minf:\n\u001b[1;32m     10\u001b[0m     \u001b[38;5;28mprint\u001b[39m(loglike(guessPrevioM, guessPrevioB, x, y, yerr))\n\u001b[0;32m---> 11\u001b[0m     pacc \u001b[38;5;241m=\u001b[39m \u001b[43mmath\u001b[49m\u001b[38;5;241;43m.\u001b[39;49m\u001b[43mexp\u001b[49m\u001b[43m(\u001b[49m\u001b[43mloglikehood\u001b[49m\u001b[43m)\u001b[49m\u001b[38;5;241;43m/\u001b[39;49m\u001b[43mmath\u001b[49m\u001b[38;5;241;43m.\u001b[39;49m\u001b[43mexp\u001b[49m\u001b[43m(\u001b[49m\u001b[43mloglike\u001b[49m\u001b[43m(\u001b[49m\u001b[43mguessPrevioM\u001b[49m\u001b[43m,\u001b[49m\u001b[43m \u001b[49m\u001b[43mguessPrevioB\u001b[49m\u001b[43m,\u001b[49m\u001b[43m \u001b[49m\u001b[43mx\u001b[49m\u001b[43m,\u001b[49m\u001b[43m \u001b[49m\u001b[43my\u001b[49m\u001b[43m,\u001b[49m\u001b[43m \u001b[49m\u001b[43myerr\u001b[49m\u001b[43m)\u001b[49m\u001b[43m)\u001b[49m\n\u001b[1;32m     12\u001b[0m     \u001b[38;5;28;01mif\u001b[39;00m pacc\u001b[38;5;241m>\u001b[39m\u001b[38;5;241m=\u001b[39m\u001b[38;5;241m1\u001b[39m:\n\u001b[1;32m     13\u001b[0m         CaminanteM\u001b[38;5;241m.\u001b[39mappend(GuessM)\n",
      "\u001b[0;31mZeroDivisionError\u001b[0m: float division by zero"
     ]
    }
   ],
   "source": [
    "CaminanteM, CaminanteB = [m0],[b0]\n",
    "Nsteps = 200\n",
    "for i in range(Nsteps):\n",
    "    guessPrevioM, guessPrevioB  = CaminanteM[len(CaminanteM)-1], CaminanteB[len(CaminanteB)-1]\n",
    "    GuessM, GuessB = np.random.normal(CaminanteM[len(CaminanteM)-1],sigmaM),np.random.normal(CaminanteB[len(CaminanteB)-1],sigmaB)\n",
    "    loglikehood = loglike(GuessM, GuessB, x, y, yerr)\n",
    "    logPri = logPrior([GuessM, GuessB],[[m_Min,m_Max],[b_Min,b_Max]])\n",
    "    lnP = loglikehood + logPri\n",
    "    if lnP != -np.inf:\n",
    "        print(loglike(guessPrevioM, guessPrevioB, x, y, yerr))\n",
    "        pacc = math.exp(loglikehood)/math.exp(loglike(guessPrevioM, guessPrevioB, x, y, yerr))\n",
    "        if pacc>=1:\n",
    "            CaminanteM.append(GuessM)\n",
    "            CaminanteB.append(GuessB)  \n",
    "        else:\n",
    "            u = np.random.uniform()\n",
    "            if pacc > u:\n",
    "                CaminanteM.append(GuessM)\n",
    "                CaminanteB.append(GuessB) \n",
    "            else:\n",
    "                CaminanteM.append(CaminanteM[len(CaminanteM)-1])\n",
    "                CaminanteB.append(CaminanteB[len(CaminanteB)-1]) \n",
    "    else:\n",
    "        CaminanteM.append(CaminanteM[len(CaminanteM)-1])\n",
    "        CaminanteB.append(CaminanteB[len(CaminanteB)-1])\n",
    "            \n",
    "\n",
    "plt.scatter(CaminanteB[0],CaminanteM[0],color='r', sizes = [25])\n",
    "plt.scatter(CaminanteB[len(CaminanteB)-1],CaminanteM[len(CaminanteM)-1],color='g', sizes = [25])\n",
    "plt.scatter(b_true,m_true,color='k', sizes = [25])\n",
    "plt.scatter(CaminanteB,CaminanteM,color='b', sizes = [1])\n",
    "plt.grid()\n",
    "plt.xlabel('Ordenada al origen')\n",
    "plt.ylabel('Pendiente')\n",
    "        "
   ]
  }
 ],
 "metadata": {
  "kernelspec": {
   "display_name": "Python 3",
   "language": "python",
   "name": "python3"
  },
  "language_info": {
   "codemirror_mode": {
    "name": "ipython",
    "version": 3
   },
   "file_extension": ".py",
   "mimetype": "text/x-python",
   "name": "python",
   "nbconvert_exporter": "python",
   "pygments_lexer": "ipython3",
   "version": "3.10.12"
  }
 },
 "nbformat": 4,
 "nbformat_minor": 2
}
